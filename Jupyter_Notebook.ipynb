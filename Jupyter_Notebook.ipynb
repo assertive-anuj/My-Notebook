{
 "cells": [
  {
   "cell_type": "markdown",
   "metadata": {},
   "source": [
    "<center>\n",
    "    <img src=\"https://cf-courses-data.s3.us.cloud-object-storage.appdomain.cloud/IBMDeveloperSkillsNetwork-DS0105EN-SkillsNetwork/labs/Module2/images/SN_web_lightmode.png\" width=\"300\" alt=\"cognitiveclass.ai logo\">\n",
    "</center>\n"
   ]
  },
  {
   "cell_type": "markdown",
   "metadata": {},
   "source": [
    "# My Notebook "
   ]
  },
  {
   "cell_type": "markdown",
   "metadata": {},
   "source": [
    "# Introduction\n",
    "\n",
    "This notebook provides an overview of the data analysis performed on the dataset. The main objectives of this analysis are to:\n",
    "\n",
    "- Understand the structure of the data\n",
    "- Perform exploratory data analysis (EDA)\n",
    "- Build and evaluate predictive models\n",
    "- Derive actionable insights from the results\n",
    "\n",
    "Throughout this notebook, we will use various data visualization and statistical techniques to uncover patterns and trends within the data."
   ]
  },
  {
   "cell_type": "markdown",
   "metadata": {},
   "source": [
    "# Data Science Languages\n",
    "\n",
    "Here are some of the most commonly used languages in data science:\n",
    "\n",
    "- Python\n",
    "- R\n",
    "- SQL\n",
    "- Julia\n",
    "- Scala\n",
    "- Java\n",
    "- MATLAB"
   ]
  },
  {
   "cell_type": "markdown",
   "metadata": {},
   "source": [
    "# Data Science Libraries\n",
    "\n",
    "Here are some of the most commonly used libraries in data science:\n",
    "\n",
    "- **Python Libraries:**\n",
    "  - NumPy\n",
    "  - pandas\n",
    "  - Matplotlib\n",
    "  - Seaborn\n",
    "  - SciPy\n",
    "  - Scikit-learn\n",
    "  - TensorFlow\n",
    "  - Keras\n",
    "  - PyTorch\n",
    "  - Statsmodels\n",
    "\n",
    "- **R Libraries:**\n",
    "  - ggplot2\n",
    "  - dplyr\n",
    "  - tidyr\n",
    "  - caret\n",
    "  - shiny\n",
    "  - data.table\n",
    "  - randomForest\n",
    "  - xgboost\n",
    "\n",
    "- **Other Libraries:**\n",
    "  - Apache Spark (PySpark, sparklyr)\n",
    "  - H2O.ai"
   ]
  },
  {
   "cell_type": "markdown",
   "metadata": {},
   "source": [
    "# Data Science Tools\n",
    "\n",
    "| Tool           | Description                                       |\n",
    "|----------------|---------------------------------------------------|\n",
    "| Jupyter Notebook | Interactive computing environment                |\n",
    "| RStudio        | Integrated development environment for R          |\n",
    "| Apache Hadoop  | Framework for distributed storage and processing  |\n",
    "| Apache Spark   | Unified analytics engine for big data processing  |\n",
    "| Tableau        | Data visualization tool                           |\n",
    "| Power BI       | Business analytics service by Microsoft           |\n",
    "| KNIME          | Open-source data analytics, reporting, and integration platform |\n",
    "| RapidMiner     | Data science platform for machine learning, deep learning, and predictive analytics |\n",
    "| TensorFlow     | Open-source library for machine learning          |\n",
    "| Keras          | Deep learning API, written in Python              |"
   ]
  },
  {
   "cell_type": "markdown",
   "metadata": {},
   "source": [
    "# Arithmetic Expressions\n",
    "\n",
    "In this section, we will explore some basic arithmetic expressions. Arithmetic expressions are combinations of numbers and operators that yield a result when evaluated. Below are some examples of common arithmetic operations:\n",
    "\n",
    "- **Addition:** The sum of two numbers.\n",
    "  ```python\n",
    "  3 + 5  # Output: 8\n",
    "  10 - 4  # Output: 6\n",
    "  7 * 6  # Output: 42\n",
    "  20 / 4  # Output: 5.0\n",
    "  2 ** 3  # Output: 8\n",
    "  10 % 3  # Output: 1\n"
   ]
  },
  {
   "cell_type": "code",
   "execution_count": 1,
   "metadata": {
    "tags": []
   },
   "outputs": [
    {
     "name": "stdout",
     "output_type": "stream",
     "text": [
      "Multiplication result: 15\n",
      "Addition result: 8\n"
     ]
    }
   ],
   "source": [
    "# Multiply and add numbers\n",
    "a = 5\n",
    "b = 3\n",
    "\n",
    "# Multiplication\n",
    "multiplication_result = a * b\n",
    "\n",
    "# Addition\n",
    "addition_result = a + b\n",
    "\n",
    "# Print results\n",
    "print(\"Multiplication result:\", multiplication_result)\n",
    "print(\"Addition result:\", addition_result)"
   ]
  },
  {
   "cell_type": "code",
   "execution_count": 2,
   "metadata": {
    "tags": []
   },
   "outputs": [
    {
     "name": "stdout",
     "output_type": "stream",
     "text": [
      "150 minutes is equal to 2.5 hours\n"
     ]
    }
   ],
   "source": [
    "# Convert minutes to hours\n",
    "\n",
    "# Number of minutes\n",
    "minutes = 150\n",
    "\n",
    "# Conversion factor\n",
    "minutes_per_hour = 60\n",
    "\n",
    "# Convert minutes to hours\n",
    "hours = minutes / minutes_per_hour\n",
    "\n",
    "# Print the result\n",
    "print(f\"{minutes} minutes is equal to {hours} hours\")"
   ]
  },
  {
   "cell_type": "markdown",
   "metadata": {},
   "source": [
    "# Objectives\n",
    "\n",
    "The objectives of this notebook are to:\n",
    "\n",
    "- Understand the basic arithmetic operations\n",
    "- Learn how to perform multiplication and addition using Python\n",
    "- Convert units of measurement, such as minutes to hours\n",
    "- Utilize markdown cells to document and organize code and results\n",
    "- Explore data science languages and libraries\n",
    "- Use various data science tools to analyze and visualize data"
   ]
  },
  {
   "cell_type": "markdown",
   "metadata": {},
   "source": [
    "# Author\n",
    "\n",
    "This notebook was created by [Anuj Shukla]."
   ]
  },
  {
   "cell_type": "code",
   "execution_count": null,
   "metadata": {},
   "outputs": [],
   "source": []
  }
 ],
 "metadata": {
  "kernelspec": {
   "display_name": "Python",
   "language": "python",
   "name": "conda-env-python-py"
  },
  "language_info": {
   "codemirror_mode": {
    "name": "ipython",
    "version": 3
   },
   "file_extension": ".py",
   "mimetype": "text/x-python",
   "name": "python",
   "nbconvert_exporter": "python",
   "pygments_lexer": "ipython3",
   "version": "3.7.12"
  }
 },
 "nbformat": 4,
 "nbformat_minor": 4
}
